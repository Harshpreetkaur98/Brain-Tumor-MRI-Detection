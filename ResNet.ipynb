{
 "cells": [
  {
   "cell_type": "code",
   "execution_count": 68,
   "id": "25491ec0-3ec8-4622-b93e-b87e2f6a57a8",
   "metadata": {},
   "outputs": [
    {
     "name": "stdout",
     "output_type": "stream",
     "text": [
      "torch.Size([32, 3, 224, 224])\n",
      "torch.Size([32])\n"
     ]
    }
   ],
   "source": [
    "from torchvision import datasets, transforms\n",
    "from torch.utils.data import DataLoader\n",
    "\n",
    "# Define the transforms to apply to the images\n",
    "transform = transforms.Compose([\n",
    "    transforms.Resize((224, 224)),  # Resize images to 224x224 (common input size for ResNet)\n",
    "    transforms.ToTensor(),  # Convert images to tensor\n",
    "    transforms.Normalize(mean=[0.485, 0.456, 0.406], std=[0.229, 0.224, 0.225])  # Normalize based on ImageNet statistics\n",
    "])\n",
    "\n",
    "# Load the datasets\n",
    "train_dataset = datasets.ImageFolder('Training', transform=transform)\n",
    "val_dataset = datasets.ImageFolder('Validation', transform=transform)\n",
    "\n",
    "# Create DataLoader instances\n",
    "train_loader = DataLoader(train_dataset, batch_size=32, shuffle=True)\n",
    "val_loader = DataLoader(val_dataset, batch_size=32, shuffle=False)\n",
    "\n",
    "# Check one batch to verify everything works\n",
    "for inputs, labels in train_loader:\n",
    "    print(inputs.shape)  # Should print a tensor shape (e.g., [32, 3, 224, 224] for a batch of 32 RGB images)\n",
    "    print(labels.shape)  # Should print a tensor shape (e.g., [32] for a batch of 32 labels)\n",
    "    break  # Only print one batch to verify\n"
   ]
  },
  {
   "cell_type": "code",
   "execution_count": 69,
   "id": "6e00e88a-f967-4a5e-90ad-060579f27c2e",
   "metadata": {},
   "outputs": [],
   "source": [
    "#  Setting up dataLoader for training\n",
    "\n",
    "from torch.utils.data import DataLoader\n",
    "\n",
    "# Define DataLoader for training and validation datasets\n",
    "train_loader = DataLoader(train_dataset, batch_size=32, shuffle=True)\n",
    "val_loader = DataLoader(val_dataset, batch_size=32, shuffle=False)\n"
   ]
  },
  {
   "cell_type": "code",
   "execution_count": 70,
   "id": "c82a0b61-7fff-45d8-a636-c8f25ec93ae6",
   "metadata": {},
   "outputs": [],
   "source": [
    "# Loading the resNet model\n",
    "\n",
    "import torch\n",
    "import torch.optim as optim\n",
    "import torch.nn as nn\n",
    "from torchvision import models\n",
    "\n",
    "# Load pre-trained ResNet-18 model\n",
    "model = models.resnet18(pretrained=False)  # Set pretrained=True if you want pre-trained weights\n",
    "num_ftrs = model.fc.in_features\n",
    "\n",
    "# Modify the final layer to match the number of classes in your dataset (4 classes in your case)\n",
    "model.fc = nn.Linear(num_ftrs, 4)\n",
    "\n",
    "# Move the model to GPU if available\n",
    "device = torch.device(\"cuda\" if torch.cuda.is_available() else \"cpu\")\n",
    "model = model.to(device)\n"
   ]
  },
  {
   "cell_type": "code",
   "execution_count": 71,
   "id": "b20e1a2c-0af8-4653-86aa-738ef1e2a833",
   "metadata": {},
   "outputs": [],
   "source": [
    "# Loss function\n",
    "criterion = nn.CrossEntropyLoss()\n",
    "\n",
    "# Optimizer\n",
    "optimizer = optim.SGD(model.parameters(), lr=0.001, momentum=0.9)\n"
   ]
  },
  {
   "cell_type": "code",
   "execution_count": 73,
   "id": "f71e5b9f-ccee-444e-a8ab-bc5d8c56bae0",
   "metadata": {},
   "outputs": [
    {
     "name": "stdout",
     "output_type": "stream",
     "text": [
      "Epoch 1/10, Loss: 0.1308, Accuracy: 96.16%\n",
      "Epoch 2/10, Loss: 0.0967, Accuracy: 97.11%\n",
      "Epoch 3/10, Loss: 0.0726, Accuracy: 97.91%\n",
      "Epoch 4/10, Loss: 0.0556, Accuracy: 98.31%\n",
      "Epoch 5/10, Loss: 0.0434, Accuracy: 98.73%\n",
      "Epoch 6/10, Loss: 0.0320, Accuracy: 99.07%\n",
      "Epoch 7/10, Loss: 0.0250, Accuracy: 99.23%\n",
      "Epoch 8/10, Loss: 0.0193, Accuracy: 99.53%\n",
      "Epoch 9/10, Loss: 0.0128, Accuracy: 99.67%\n",
      "Epoch 10/10, Loss: 0.0078, Accuracy: 99.82%\n"
     ]
    }
   ],
   "source": [
    "# Number of epochs\n",
    "num_epochs = 10\n",
    "\n",
    "for epoch in range(num_epochs):\n",
    "    model.train()  # Set the model to training mode\n",
    "    running_loss = 0.0\n",
    "    correct = 0\n",
    "    total = 0\n",
    "\n",
    "    for inputs, labels in train_loader:\n",
    "        inputs, labels = inputs.to(device), labels.to(device)\n",
    "\n",
    "        optimizer.zero_grad()  # Zero the parameter gradients\n",
    "\n",
    "        outputs = model(inputs)  # Forward pass\n",
    "        loss = criterion(outputs, labels)  # Compute loss\n",
    "        loss.backward()  # Backward pass\n",
    "        optimizer.step()  # Optimize the model parameters\n",
    "\n",
    "        running_loss += loss.item()\n",
    "\n",
    "        # Calculate accuracy\n",
    "        _, predicted = torch.max(outputs, 1)\n",
    "        total += labels.size(0)\n",
    "        correct += (predicted == labels).sum().item()\n",
    "\n",
    "    epoch_loss = running_loss / len(train_loader)\n",
    "    epoch_acc = correct / total * 100\n",
    "    print(f\"Epoch {epoch+1}/{num_epochs}, Loss: {epoch_loss:.4f}, Accuracy: {epoch_acc:.2f}%\")"
   ]
  },
  {
   "cell_type": "code",
   "execution_count": 74,
   "id": "2fb65e47-d520-421e-bbb6-1c02963a43a9",
   "metadata": {},
   "outputs": [
    {
     "name": "stdout",
     "output_type": "stream",
     "text": [
      "Validation Loss: 0.0019, Validation Accuracy: 99.98%\n"
     ]
    }
   ],
   "source": [
    "#  Validation and testing the model\n",
    "\n",
    "model.eval()  # Set the model to evaluation mode\n",
    "val_loss = 0.0\n",
    "correct = 0\n",
    "total = 0\n",
    "\n",
    "with torch.no_grad():  # No need to calculate gradients for validation\n",
    "    for inputs, labels in val_loader:\n",
    "        inputs, labels = inputs.to(device), labels.to(device)\n",
    "        \n",
    "        outputs = model(inputs)\n",
    "        loss = criterion(outputs, labels)\n",
    "        val_loss += loss.item()\n",
    "\n",
    "        # Calculate accuracy\n",
    "        _, predicted = torch.max(outputs, 1)\n",
    "        total += labels.size(0)\n",
    "        correct += (predicted == labels).sum().item()\n",
    "\n",
    "# Calculate average validation loss and accuracy\n",
    "val_loss /= len(val_loader)\n",
    "val_acc = correct / total * 100\n",
    "print(f\"Validation Loss: {val_loss:.4f}, Validation Accuracy: {val_acc:.2f}%\")\n"
   ]
  },
  {
   "cell_type": "code",
   "execution_count": null,
   "id": "15f1d025-a0a1-4717-aae5-675e20e02cbe",
   "metadata": {},
   "outputs": [],
   "source": [
    "#  Saving the model\n",
    "\n",
    "# Save the trained model\n",
    "torch.save(model.state_dict(), \"ResNetModel.pth\")\n",
    "print(\"Model saved to model.pth\")"
   ]
  },
  {
   "cell_type": "code",
   "execution_count": 76,
   "id": "4a34e633-1acf-4d11-a918-551c1e6a8007",
   "metadata": {},
   "outputs": [
    {
     "name": "stdout",
     "output_type": "stream",
     "text": [
      "Test Loss: 1.0734, Test Accuracy: 77.82%\n"
     ]
    }
   ],
   "source": [
    "#  Testing the model (Also final evaluation)\n",
    "test_dataset = datasets.ImageFolder('Testing', transform=transform)\n",
    "\n",
    "# Create DataLoader for the test set\n",
    "test_loader = DataLoader(test_dataset, batch_size=32, shuffle=False)\n",
    "\n",
    "\n",
    "\n",
    "test_loss = 0.0\n",
    "correct = 0\n",
    "total = 0\n",
    "\n",
    "# Switch to evaluation mode for inference\n",
    "model.eval()\n",
    "\n",
    "with torch.no_grad():\n",
    "    for inputs, labels in test_loader:\n",
    "        inputs, labels = inputs.to(device), labels.to(device)\n",
    "\n",
    "        outputs = model(inputs)\n",
    "        loss = criterion(outputs, labels)\n",
    "        test_loss += loss.item()\n",
    "\n",
    "        _, predicted = torch.max(outputs, 1)\n",
    "        total += labels.size(0)\n",
    "        correct += (predicted == labels).sum().item()\n",
    "\n",
    "# Calculate test accuracy\n",
    "test_loss /= len(test_loader)\n",
    "test_acc = correct / total * 100\n",
    "print(f\"Test Loss: {test_loss:.4f}, Test Accuracy: {test_acc:.2f}%\")\n"
   ]
  },
  {
   "cell_type": "code",
   "execution_count": 77,
   "id": "25ef4dbb-40ea-4f0d-909a-62d7113ee2fb",
   "metadata": {},
   "outputs": [
    {
     "name": "stdout",
     "output_type": "stream",
     "text": [
      "Test Loss: 1.0734, Test Accuracy: 77.82%\n",
      "Confusion Matrix:\n",
      "[[184  35   8  74]\n",
      " [ 10 136  85  75]\n",
      " [  0   2 401   2]\n",
      " [  0   0   0 300]]\n",
      "Classification Report:\n",
      "              precision    recall  f1-score   support\n",
      "\n",
      "           0       0.95      0.61      0.74       301\n",
      "           1       0.79      0.44      0.57       306\n",
      "           2       0.81      0.99      0.89       405\n",
      "           3       0.67      1.00      0.80       300\n",
      "\n",
      "    accuracy                           0.78      1312\n",
      "   macro avg       0.80      0.76      0.75      1312\n",
      "weighted avg       0.80      0.78      0.76      1312\n",
      "\n"
     ]
    }
   ],
   "source": [
    "from sklearn.metrics import confusion_matrix, classification_report, accuracy_score\n",
    "import numpy as np\n",
    "import torch\n",
    "\n",
    "test_loss = 0.0\n",
    "correct = 0\n",
    "total = 0\n",
    "all_labels = []\n",
    "all_preds = []\n",
    "\n",
    "# Switch to evaluation mode for inference\n",
    "model.eval()\n",
    "\n",
    "with torch.no_grad():\n",
    "    for inputs, labels in test_loader:\n",
    "        inputs, labels = inputs.to(device), labels.to(device)\n",
    "\n",
    "        outputs = model(inputs)\n",
    "        loss = criterion(outputs, labels)\n",
    "        test_loss += loss.item()\n",
    "\n",
    "        _, predicted = torch.max(outputs, 1)\n",
    "        total += labels.size(0)\n",
    "        correct += (predicted == labels).sum().item()\n",
    "\n",
    "        all_labels.extend(labels.cpu().numpy())  # collect true labels\n",
    "        all_preds.extend(predicted.cpu().numpy())  # collect predictions\n",
    "\n",
    "# Calculate test accuracy\n",
    "test_loss /= len(test_loader)\n",
    "test_acc = correct / total * 100\n",
    "print(f\"Test Loss: {test_loss:.4f}, Test Accuracy: {test_acc:.2f}%\")\n",
    "\n",
    "# Now calculate confusion matrix and other metrics\n",
    "cm = confusion_matrix(all_labels, all_preds)\n",
    "print(\"Confusion Matrix:\")\n",
    "print(cm)\n",
    "\n",
    "# Classification report including precision, recall, F1 score\n",
    "report = classification_report(all_labels, all_preds)\n",
    "print(\"Classification Report:\")\n",
    "print(report)\n",
    "\n"
   ]
  },
  {
   "cell_type": "code",
   "execution_count": 81,
   "id": "a005c1b4-f187-42a4-a760-7d916225bcc5",
   "metadata": {},
   "outputs": [
    {
     "data": {
      "image/png": "[encoded data removed]",
      "text/plain": [
       "<Figure size 800x600 with 2 Axes>"
      ]
     },
     "metadata": {},
     "output_type": "display_data"
    }
   ],
   "source": [
    "import matplotlib.pyplot as plt\n",
    "import seaborn as sns\n",
    "from sklearn.metrics import confusion_matrix\n",
    "\n",
    "# Define your class names (adjust this based on your dataset)\n",
    "class_names = ['Glioma', 'Meningioma', 'NoTumour', 'Pituitary']  # Replace these with your actual class names\n",
    "\n",
    "# Plotting the confusion matrix\n",
    "cm = confusion_matrix(all_labels, all_preds)\n",
    "\n",
    "# Create a heatmap for the confusion matrix\n",
    "plt.figure(figsize=(8, 6))\n",
    "sns.heatmap(cm, annot=True, fmt='d', cmap='Blues', xticklabels=class_names, yticklabels=class_names)\n",
    "plt.title('Confusion Matrix')\n",
    "plt.xlabel('Predicted Label')\n",
    "plt.ylabel('True Label')\n",
    "plt.show()\n"
   ]
  }
 ],
 "metadata": {
  "kernelspec": {
   "display_name": "Python 3 (ipykernel)",
   "language": "python",
   "name": "python3"
  },
  "language_info": {
   "codemirror_mode": {
    "name": "ipython",
    "version": 3
   },
   "file_extension": ".py",
   "mimetype": "text/x-python",
   "name": "python",
   "nbconvert_exporter": "python",
   "pygments_lexer": "ipython3",
   "version": "3.9.21"
  }
 },
 "nbformat": 4,
 "nbformat_minor": 5
}
